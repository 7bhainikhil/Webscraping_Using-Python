{
 "cells": [
  {
   "cell_type": "code",
   "execution_count": 34,
   "id": "210b07c5",
   "metadata": {},
   "outputs": [],
   "source": [
    "from bs4 import BeautifulSoup as bs\n",
    "import requests\n",
    "import pandas as pd "
   ]
  },
  {
   "cell_type": "code",
   "execution_count": 35,
   "id": "b15b7acb",
   "metadata": {},
   "outputs": [],
   "source": [
    "response = requests.get(\n",
    "  url='https://proxy.scrapeops.io/v1/',\n",
    "  params={\n",
    "      'api_key': '22426d46-949d-43eb-8341-b95904982db6',\n",
    "      'url': 'https://collegedunia.com/university/18416-mit-world-peace-university-mitwpu-pune/reviews/page-2',\n",
    "      \n",
    "  },\n",
    ")"
   ]
  },
  {
   "cell_type": "code",
   "execution_count": 36,
   "id": "79c8c60b",
   "metadata": {},
   "outputs": [],
   "source": [
    "soup=bs(response.content,'html.parser')"
   ]
  },
  {
   "cell_type": "code",
   "execution_count": 37,
   "id": "1c9d732b",
   "metadata": {},
   "outputs": [
    {
     "data": {
      "text/plain": [
       "[<a class=\"user-name\" data-csm-title=\"Shyam UK\" href=\"/reviews/406880-shyam-uk-review-on-mit-world-peace-university-mit-wpu-pune\">Shyam UK</a>,\n",
       " <a class=\"user-name\" data-csm-title=\"Ayush gour\" href=\"/reviews/379673-ayush-gour-review-on-mit-world-peace-university-mit-wpu-pune\">Ayush gour</a>,\n",
       " <a class=\"user-name\" data-csm-title=\"NITISH\" href=\"/reviews/370809-nitish-review-on-mit-world-peace-university-mit-wpu-pune\">NITISH</a>,\n",
       " <a class=\"user-name\" data-csm-title=\"Shivanshi Singh\" href=\"/reviews/361984-shivanshi-singh-review-on-mit-world-peace-university-mit-wpu-pune\">Shivanshi Singh</a>,\n",
       " <a class=\"user-name\" data-csm-title=\"Nandan Patel\" href=\"/reviews/355691-nandan-patel-review-on-mit-world-peace-university-mit-wpu-pune\">Nandan Patel</a>,\n",
       " <a class=\"user-name\" data-csm-title=\"Nupur Kalele\" href=\"/reviews/351610-nupur-kalele-review-on-mit-world-peace-university-mit-wpu-pune\">Nupur Kalele</a>,\n",
       " <a class=\"user-name\" data-csm-title=\"Abhishek Pawar\" href=\"/reviews/342793-abhishek-pawar-review-on-mit-world-peace-university-mit-wpu-pune\">Abhishek Pawar</a>,\n",
       " <a class=\"user-name\" data-csm-title=\"vaidya dinesh abasaheb\" href=\"/reviews/341925-vaidya-dinesh-abasaheb-review-on-mit-world-peace-university-mit-wpu-pune\">vaidya dinesh abasaheb</a>,\n",
       " <a class=\"user-name\" data-csm-title=\"Aesha Panchal\" href=\"/reviews/323437-aesha-panchal-review-on-mit-world-peace-university-mit-wpu-pune\">Aesha Panchal</a>,\n",
       " <a class=\"user-name\" data-csm-title=\"Yadav Radha Hemant\" href=\"/reviews/323323-yadav-radha-hemant-review-on-mit-world-peace-university-mit-wpu-pune\">Yadav Radha Hemant</a>]"
      ]
     },
     "execution_count": 37,
     "metadata": {},
     "output_type": "execute_result"
    }
   ],
   "source": [
    "names = soup.find_all('a',class_='user-name')\n",
    "names"
   ]
  },
  {
   "cell_type": "code",
   "execution_count": 38,
   "id": "d9ef7141",
   "metadata": {},
   "outputs": [
    {
     "data": {
      "text/plain": [
       "['Shyam UK',\n",
       " 'Ayush gour',\n",
       " 'NITISH',\n",
       " 'Shivanshi Singh',\n",
       " 'Nandan Patel',\n",
       " 'Nupur Kalele',\n",
       " 'Abhishek Pawar',\n",
       " 'vaidya dinesh abasaheb',\n",
       " 'Aesha Panchal',\n",
       " 'Yadav Radha Hemant']"
      ]
     },
     "execution_count": 38,
     "metadata": {},
     "output_type": "execute_result"
    }
   ],
   "source": [
    "cust_name = []\n",
    "for i in range(0,len(names)):\n",
    "    cust_name.append(names[i].get_text())\n",
    "cust_name"
   ]
  },
  {
   "cell_type": "code",
   "execution_count": 39,
   "id": "2392a95b",
   "metadata": {},
   "outputs": [
    {
     "data": {
      "text/plain": [
       "10"
      ]
     },
     "execution_count": 39,
     "metadata": {},
     "output_type": "execute_result"
    }
   ],
   "source": [
    "head =soup.find_all('a',class_='review-card-title')\n",
    "head\n",
    "len(head)"
   ]
  },
  {
   "cell_type": "code",
   "execution_count": 40,
   "id": "57aa8c9c",
   "metadata": {},
   "outputs": [
    {
     "data": {
      "text/plain": [
       "['MY EXPERIENCE WITH MIT-WPU',\n",
       " 'Overview about MIT-WPU',\n",
       " 'Best Placement',\n",
       " 'MIT-WPU',\n",
       " 'My journey in MIT-WPU',\n",
       " 'MIT WPU AND THE LIFE IN IT',\n",
       " \"Abhishek's Review for MIT WPU\",\n",
       " 'If you want better placement then you are lucky to get MIT.',\n",
       " 'Best University in Pune',\n",
       " 'How I began my journey towards world of Economics...']"
      ]
     },
     "execution_count": 40,
     "metadata": {},
     "output_type": "execute_result"
    }
   ],
   "source": [
    "title_head = []\n",
    "for i in range(0,len(head)):\n",
    "    title_head.append(head[i].get_text())\n",
    "title_head"
   ]
  },
  {
   "cell_type": "code",
   "execution_count": 41,
   "id": "13dbf7e3",
   "metadata": {},
   "outputs": [],
   "source": [
    "df = pd.DataFrame()"
   ]
  },
  {
   "cell_type": "code",
   "execution_count": 42,
   "id": "1014e255",
   "metadata": {},
   "outputs": [],
   "source": [
    "df=pd.DataFrame()"
   ]
  },
  {
   "cell_type": "code",
   "execution_count": 43,
   "id": "8757c0ab",
   "metadata": {},
   "outputs": [
    {
     "data": {
      "text/html": [
       "<div>\n",
       "<style scoped>\n",
       "    .dataframe tbody tr th:only-of-type {\n",
       "        vertical-align: middle;\n",
       "    }\n",
       "\n",
       "    .dataframe tbody tr th {\n",
       "        vertical-align: top;\n",
       "    }\n",
       "\n",
       "    .dataframe thead th {\n",
       "        text-align: right;\n",
       "    }\n",
       "</style>\n",
       "<table border=\"1\" class=\"dataframe\">\n",
       "  <thead>\n",
       "    <tr style=\"text-align: right;\">\n",
       "      <th></th>\n",
       "      <th>Name</th>\n",
       "      <th>Head_Comment</th>\n",
       "    </tr>\n",
       "  </thead>\n",
       "  <tbody>\n",
       "    <tr>\n",
       "      <th>0</th>\n",
       "      <td>Shyam UK</td>\n",
       "      <td>MY EXPERIENCE WITH MIT-WPU</td>\n",
       "    </tr>\n",
       "    <tr>\n",
       "      <th>1</th>\n",
       "      <td>Ayush gour</td>\n",
       "      <td>Overview about MIT-WPU</td>\n",
       "    </tr>\n",
       "    <tr>\n",
       "      <th>2</th>\n",
       "      <td>NITISH</td>\n",
       "      <td>Best Placement</td>\n",
       "    </tr>\n",
       "    <tr>\n",
       "      <th>3</th>\n",
       "      <td>Shivanshi Singh</td>\n",
       "      <td>MIT-WPU</td>\n",
       "    </tr>\n",
       "    <tr>\n",
       "      <th>4</th>\n",
       "      <td>Nandan Patel</td>\n",
       "      <td>My journey in MIT-WPU</td>\n",
       "    </tr>\n",
       "    <tr>\n",
       "      <th>5</th>\n",
       "      <td>Nupur Kalele</td>\n",
       "      <td>MIT WPU AND THE LIFE IN IT</td>\n",
       "    </tr>\n",
       "    <tr>\n",
       "      <th>6</th>\n",
       "      <td>Abhishek Pawar</td>\n",
       "      <td>Abhishek's Review for MIT WPU</td>\n",
       "    </tr>\n",
       "    <tr>\n",
       "      <th>7</th>\n",
       "      <td>vaidya dinesh abasaheb</td>\n",
       "      <td>If you want better placement then you are luck...</td>\n",
       "    </tr>\n",
       "    <tr>\n",
       "      <th>8</th>\n",
       "      <td>Aesha Panchal</td>\n",
       "      <td>Best University in Pune</td>\n",
       "    </tr>\n",
       "    <tr>\n",
       "      <th>9</th>\n",
       "      <td>Yadav Radha Hemant</td>\n",
       "      <td>How I began my journey towards world of Econom...</td>\n",
       "    </tr>\n",
       "  </tbody>\n",
       "</table>\n",
       "</div>"
      ],
      "text/plain": [
       "                     Name                                       Head_Comment\n",
       "0                Shyam UK                         MY EXPERIENCE WITH MIT-WPU\n",
       "1              Ayush gour                             Overview about MIT-WPU\n",
       "2                  NITISH                                     Best Placement\n",
       "3         Shivanshi Singh                                            MIT-WPU\n",
       "4            Nandan Patel                              My journey in MIT-WPU\n",
       "5            Nupur Kalele                         MIT WPU AND THE LIFE IN IT\n",
       "6          Abhishek Pawar                      Abhishek's Review for MIT WPU\n",
       "7  vaidya dinesh abasaheb  If you want better placement then you are luck...\n",
       "8           Aesha Panchal                            Best University in Pune\n",
       "9      Yadav Radha Hemant  How I began my journey towards world of Econom..."
      ]
     },
     "execution_count": 43,
     "metadata": {},
     "output_type": "execute_result"
    }
   ],
   "source": [
    "df['Name']=cust_name\n",
    "df['Head_Comment']=title_head\n",
    "df"
   ]
  },
  {
   "cell_type": "code",
   "execution_count": null,
   "id": "0ecf6e87",
   "metadata": {},
   "outputs": [],
   "source": []
  }
 ],
 "metadata": {
  "kernelspec": {
   "display_name": "Python 3 (ipykernel)",
   "language": "python",
   "name": "python3"
  },
  "language_info": {
   "codemirror_mode": {
    "name": "ipython",
    "version": 3
   },
   "file_extension": ".py",
   "mimetype": "text/x-python",
   "name": "python",
   "nbconvert_exporter": "python",
   "pygments_lexer": "ipython3",
   "version": "3.9.13"
  }
 },
 "nbformat": 4,
 "nbformat_minor": 5
}
